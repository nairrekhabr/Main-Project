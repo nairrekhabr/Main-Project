{
 "cells": [
  {
   "cell_type": "code",
   "execution_count": 65,
   "id": "4e635683-30a5-406d-a8b8-d1d4a393d53f",
   "metadata": {},
   "outputs": [],
   "source": [
    "#import libraries\n",
    "\n",
    "import pandas as pd\n",
    "from pathlib import Path\n",
    "%matplotlib inline"
   ]
  },
  {
   "cell_type": "code",
   "execution_count": 66,
   "id": "3dcfcc8a-5fe7-45e4-a48d-055721e8df06",
   "metadata": {
    "tags": []
   },
   "outputs": [],
   "source": [
    "#Read csv files and set the date as the index\n",
    "\n",
    "amazon_stock_data=Path(\"../Project-1/AMZN.csv\")\n",
    "amazon_csv=pd.read_csv(amazon_stock_data,parse_dates=True, index_col='Date', infer_datetime_format=True)\n",
    "covid_cases_data=Path(\"../Project-1/us_states_covid19_daily.csv\")\n",
    "covid_cases_csv=pd.read_csv(covid_cases_data, parse_dates=True, index_col='date', infer_datetime_format=True)"
   ]
  },
  {
   "cell_type": "code",
   "execution_count": 67,
   "id": "e9eb5eb4-4acd-429b-adc7-3f437f955ea9",
   "metadata": {},
   "outputs": [
    {
     "data": {
      "text/html": [
       "<div>\n",
       "<style scoped>\n",
       "    .dataframe tbody tr th:only-of-type {\n",
       "        vertical-align: middle;\n",
       "    }\n",
       "\n",
       "    .dataframe tbody tr th {\n",
       "        vertical-align: top;\n",
       "    }\n",
       "\n",
       "    .dataframe thead th {\n",
       "        text-align: right;\n",
       "    }\n",
       "</style>\n",
       "<table border=\"1\" class=\"dataframe\">\n",
       "  <thead>\n",
       "    <tr style=\"text-align: right;\">\n",
       "      <th></th>\n",
       "      <th>Open</th>\n",
       "      <th>High</th>\n",
       "      <th>Low</th>\n",
       "      <th>Close</th>\n",
       "      <th>Adj Close</th>\n",
       "      <th>Volume</th>\n",
       "    </tr>\n",
       "    <tr>\n",
       "      <th>Date</th>\n",
       "      <th></th>\n",
       "      <th></th>\n",
       "      <th></th>\n",
       "      <th></th>\n",
       "      <th></th>\n",
       "      <th></th>\n",
       "    </tr>\n",
       "  </thead>\n",
       "  <tbody>\n",
       "    <tr>\n",
       "      <th>1997-05-15</th>\n",
       "      <td>2.437500</td>\n",
       "      <td>2.500000</td>\n",
       "      <td>1.927083</td>\n",
       "      <td>1.958333</td>\n",
       "      <td>1.958333</td>\n",
       "      <td>72156000</td>\n",
       "    </tr>\n",
       "    <tr>\n",
       "      <th>1997-05-16</th>\n",
       "      <td>1.968750</td>\n",
       "      <td>1.979167</td>\n",
       "      <td>1.708333</td>\n",
       "      <td>1.729167</td>\n",
       "      <td>1.729167</td>\n",
       "      <td>14700000</td>\n",
       "    </tr>\n",
       "    <tr>\n",
       "      <th>1997-05-19</th>\n",
       "      <td>1.760417</td>\n",
       "      <td>1.770833</td>\n",
       "      <td>1.625000</td>\n",
       "      <td>1.708333</td>\n",
       "      <td>1.708333</td>\n",
       "      <td>6106800</td>\n",
       "    </tr>\n",
       "    <tr>\n",
       "      <th>1997-05-20</th>\n",
       "      <td>1.729167</td>\n",
       "      <td>1.750000</td>\n",
       "      <td>1.635417</td>\n",
       "      <td>1.635417</td>\n",
       "      <td>1.635417</td>\n",
       "      <td>5467200</td>\n",
       "    </tr>\n",
       "    <tr>\n",
       "      <th>1997-05-21</th>\n",
       "      <td>1.635417</td>\n",
       "      <td>1.645833</td>\n",
       "      <td>1.375000</td>\n",
       "      <td>1.427083</td>\n",
       "      <td>1.427083</td>\n",
       "      <td>18853200</td>\n",
       "    </tr>\n",
       "  </tbody>\n",
       "</table>\n",
       "</div>"
      ],
      "text/plain": [
       "                Open      High       Low     Close  Adj Close    Volume\n",
       "Date                                                                   \n",
       "1997-05-15  2.437500  2.500000  1.927083  1.958333   1.958333  72156000\n",
       "1997-05-16  1.968750  1.979167  1.708333  1.729167   1.729167  14700000\n",
       "1997-05-19  1.760417  1.770833  1.625000  1.708333   1.708333   6106800\n",
       "1997-05-20  1.729167  1.750000  1.635417  1.635417   1.635417   5467200\n",
       "1997-05-21  1.635417  1.645833  1.375000  1.427083   1.427083  18853200"
      ]
     },
     "execution_count": 67,
     "metadata": {},
     "output_type": "execute_result"
    }
   ],
   "source": [
    "#preview Amazon data\n",
    "amazon_csv.head()"
   ]
  },
  {
   "cell_type": "code",
   "execution_count": 68,
   "id": "4eca66b5-4ab6-4ba0-9c06-93deaad8769d",
   "metadata": {},
   "outputs": [
    {
     "data": {
      "text/html": [
       "<div>\n",
       "<style scoped>\n",
       "    .dataframe tbody tr th:only-of-type {\n",
       "        vertical-align: middle;\n",
       "    }\n",
       "\n",
       "    .dataframe tbody tr th {\n",
       "        vertical-align: top;\n",
       "    }\n",
       "\n",
       "    .dataframe thead th {\n",
       "        text-align: right;\n",
       "    }\n",
       "</style>\n",
       "<table border=\"1\" class=\"dataframe\">\n",
       "  <thead>\n",
       "    <tr style=\"text-align: right;\">\n",
       "      <th></th>\n",
       "      <th>state</th>\n",
       "      <th>positive</th>\n",
       "      <th>probableCases</th>\n",
       "      <th>negative</th>\n",
       "      <th>pending</th>\n",
       "      <th>totalTestResultsSource</th>\n",
       "      <th>totalTestResults</th>\n",
       "      <th>hospitalizedCurrently</th>\n",
       "      <th>hospitalizedCumulative</th>\n",
       "      <th>inIcuCurrently</th>\n",
       "      <th>...</th>\n",
       "      <th>posNeg</th>\n",
       "      <th>deathIncrease</th>\n",
       "      <th>hospitalizedIncrease</th>\n",
       "      <th>hash</th>\n",
       "      <th>commercialScore</th>\n",
       "      <th>negativeRegularScore</th>\n",
       "      <th>negativeScore</th>\n",
       "      <th>positiveScore</th>\n",
       "      <th>score</th>\n",
       "      <th>grade</th>\n",
       "    </tr>\n",
       "    <tr>\n",
       "      <th>date</th>\n",
       "      <th></th>\n",
       "      <th></th>\n",
       "      <th></th>\n",
       "      <th></th>\n",
       "      <th></th>\n",
       "      <th></th>\n",
       "      <th></th>\n",
       "      <th></th>\n",
       "      <th></th>\n",
       "      <th></th>\n",
       "      <th></th>\n",
       "      <th></th>\n",
       "      <th></th>\n",
       "      <th></th>\n",
       "      <th></th>\n",
       "      <th></th>\n",
       "      <th></th>\n",
       "      <th></th>\n",
       "      <th></th>\n",
       "      <th></th>\n",
       "      <th></th>\n",
       "    </tr>\n",
       "  </thead>\n",
       "  <tbody>\n",
       "    <tr>\n",
       "      <th>2020-12-06</th>\n",
       "      <td>AK</td>\n",
       "      <td>35720.0</td>\n",
       "      <td>NaN</td>\n",
       "      <td>1042056.0</td>\n",
       "      <td>NaN</td>\n",
       "      <td>totalTestsViral</td>\n",
       "      <td>1077776.0</td>\n",
       "      <td>164.0</td>\n",
       "      <td>799.0</td>\n",
       "      <td>NaN</td>\n",
       "      <td>...</td>\n",
       "      <td>1077776</td>\n",
       "      <td>0</td>\n",
       "      <td>0</td>\n",
       "      <td>7b1d31e2756687bb9259b29195f1db6cdb321ea6</td>\n",
       "      <td>0</td>\n",
       "      <td>0</td>\n",
       "      <td>0</td>\n",
       "      <td>0</td>\n",
       "      <td>0</td>\n",
       "      <td>NaN</td>\n",
       "    </tr>\n",
       "    <tr>\n",
       "      <th>2020-12-06</th>\n",
       "      <td>AL</td>\n",
       "      <td>269877.0</td>\n",
       "      <td>45962.0</td>\n",
       "      <td>1421126.0</td>\n",
       "      <td>NaN</td>\n",
       "      <td>totalTestsPeopleViral</td>\n",
       "      <td>1645041.0</td>\n",
       "      <td>1927.0</td>\n",
       "      <td>26331.0</td>\n",
       "      <td>NaN</td>\n",
       "      <td>...</td>\n",
       "      <td>1691003</td>\n",
       "      <td>12</td>\n",
       "      <td>0</td>\n",
       "      <td>19454ed8fe28fc0a7948fc0771b2f3c846c1c92e</td>\n",
       "      <td>0</td>\n",
       "      <td>0</td>\n",
       "      <td>0</td>\n",
       "      <td>0</td>\n",
       "      <td>0</td>\n",
       "      <td>NaN</td>\n",
       "    </tr>\n",
       "    <tr>\n",
       "      <th>2020-12-06</th>\n",
       "      <td>AR</td>\n",
       "      <td>170924.0</td>\n",
       "      <td>22753.0</td>\n",
       "      <td>1614979.0</td>\n",
       "      <td>NaN</td>\n",
       "      <td>totalTestsViral</td>\n",
       "      <td>1763150.0</td>\n",
       "      <td>1076.0</td>\n",
       "      <td>9401.0</td>\n",
       "      <td>374.0</td>\n",
       "      <td>...</td>\n",
       "      <td>1785903</td>\n",
       "      <td>40</td>\n",
       "      <td>21</td>\n",
       "      <td>25fc83bffff5b32ba1a737be8e087fad9f4fde33</td>\n",
       "      <td>0</td>\n",
       "      <td>0</td>\n",
       "      <td>0</td>\n",
       "      <td>0</td>\n",
       "      <td>0</td>\n",
       "      <td>NaN</td>\n",
       "    </tr>\n",
       "    <tr>\n",
       "      <th>2020-12-06</th>\n",
       "      <td>AS</td>\n",
       "      <td>0.0</td>\n",
       "      <td>NaN</td>\n",
       "      <td>2140.0</td>\n",
       "      <td>NaN</td>\n",
       "      <td>totalTestsViral</td>\n",
       "      <td>2140.0</td>\n",
       "      <td>NaN</td>\n",
       "      <td>NaN</td>\n",
       "      <td>NaN</td>\n",
       "      <td>...</td>\n",
       "      <td>2140</td>\n",
       "      <td>0</td>\n",
       "      <td>0</td>\n",
       "      <td>8c39eec317586b0c34fc2903e6a3891ecb00469e</td>\n",
       "      <td>0</td>\n",
       "      <td>0</td>\n",
       "      <td>0</td>\n",
       "      <td>0</td>\n",
       "      <td>0</td>\n",
       "      <td>NaN</td>\n",
       "    </tr>\n",
       "    <tr>\n",
       "      <th>2020-12-06</th>\n",
       "      <td>AZ</td>\n",
       "      <td>364276.0</td>\n",
       "      <td>12590.0</td>\n",
       "      <td>2018813.0</td>\n",
       "      <td>NaN</td>\n",
       "      <td>totalTestsPeopleViral</td>\n",
       "      <td>2370499.0</td>\n",
       "      <td>2977.0</td>\n",
       "      <td>28248.0</td>\n",
       "      <td>714.0</td>\n",
       "      <td>...</td>\n",
       "      <td>2383089</td>\n",
       "      <td>25</td>\n",
       "      <td>242</td>\n",
       "      <td>7cf59da9e4bc31d905e179211313d08879880a85</td>\n",
       "      <td>0</td>\n",
       "      <td>0</td>\n",
       "      <td>0</td>\n",
       "      <td>0</td>\n",
       "      <td>0</td>\n",
       "      <td>NaN</td>\n",
       "    </tr>\n",
       "  </tbody>\n",
       "</table>\n",
       "<p>5 rows × 54 columns</p>\n",
       "</div>"
      ],
      "text/plain": [
       "           state  positive  probableCases   negative  pending  \\\n",
       "date                                                            \n",
       "2020-12-06    AK   35720.0            NaN  1042056.0      NaN   \n",
       "2020-12-06    AL  269877.0        45962.0  1421126.0      NaN   \n",
       "2020-12-06    AR  170924.0        22753.0  1614979.0      NaN   \n",
       "2020-12-06    AS       0.0            NaN     2140.0      NaN   \n",
       "2020-12-06    AZ  364276.0        12590.0  2018813.0      NaN   \n",
       "\n",
       "           totalTestResultsSource  totalTestResults  hospitalizedCurrently  \\\n",
       "date                                                                         \n",
       "2020-12-06        totalTestsViral         1077776.0                  164.0   \n",
       "2020-12-06  totalTestsPeopleViral         1645041.0                 1927.0   \n",
       "2020-12-06        totalTestsViral         1763150.0                 1076.0   \n",
       "2020-12-06        totalTestsViral            2140.0                    NaN   \n",
       "2020-12-06  totalTestsPeopleViral         2370499.0                 2977.0   \n",
       "\n",
       "            hospitalizedCumulative  inIcuCurrently  ...   posNeg  \\\n",
       "date                                                ...            \n",
       "2020-12-06                   799.0             NaN  ...  1077776   \n",
       "2020-12-06                 26331.0             NaN  ...  1691003   \n",
       "2020-12-06                  9401.0           374.0  ...  1785903   \n",
       "2020-12-06                     NaN             NaN  ...     2140   \n",
       "2020-12-06                 28248.0           714.0  ...  2383089   \n",
       "\n",
       "            deathIncrease  hospitalizedIncrease  \\\n",
       "date                                              \n",
       "2020-12-06              0                     0   \n",
       "2020-12-06             12                     0   \n",
       "2020-12-06             40                    21   \n",
       "2020-12-06              0                     0   \n",
       "2020-12-06             25                   242   \n",
       "\n",
       "                                                hash commercialScore  \\\n",
       "date                                                                   \n",
       "2020-12-06  7b1d31e2756687bb9259b29195f1db6cdb321ea6               0   \n",
       "2020-12-06  19454ed8fe28fc0a7948fc0771b2f3c846c1c92e               0   \n",
       "2020-12-06  25fc83bffff5b32ba1a737be8e087fad9f4fde33               0   \n",
       "2020-12-06  8c39eec317586b0c34fc2903e6a3891ecb00469e               0   \n",
       "2020-12-06  7cf59da9e4bc31d905e179211313d08879880a85               0   \n",
       "\n",
       "           negativeRegularScore negativeScore positiveScore  score  grade  \n",
       "date                                                                       \n",
       "2020-12-06                    0             0             0      0    NaN  \n",
       "2020-12-06                    0             0             0      0    NaN  \n",
       "2020-12-06                    0             0             0      0    NaN  \n",
       "2020-12-06                    0             0             0      0    NaN  \n",
       "2020-12-06                    0             0             0      0    NaN  \n",
       "\n",
       "[5 rows x 54 columns]"
      ]
     },
     "execution_count": 68,
     "metadata": {},
     "output_type": "execute_result"
    }
   ],
   "source": [
    "#preview covid cases data\n",
    "covid_cases_csv.head()"
   ]
  },
  {
   "cell_type": "code",
   "execution_count": 71,
   "id": "012203c4-5ab4-4ec8-a00b-30712e659e03",
   "metadata": {},
   "outputs": [
    {
     "data": {
      "text/html": [
       "<div>\n",
       "<style scoped>\n",
       "    .dataframe tbody tr th:only-of-type {\n",
       "        vertical-align: middle;\n",
       "    }\n",
       "\n",
       "    .dataframe tbody tr th {\n",
       "        vertical-align: top;\n",
       "    }\n",
       "\n",
       "    .dataframe thead th {\n",
       "        text-align: right;\n",
       "    }\n",
       "</style>\n",
       "<table border=\"1\" class=\"dataframe\">\n",
       "  <thead>\n",
       "    <tr style=\"text-align: right;\">\n",
       "      <th></th>\n",
       "      <th>state</th>\n",
       "      <th>positive</th>\n",
       "      <th>probableCases</th>\n",
       "      <th>negative</th>\n",
       "      <th>pending</th>\n",
       "    </tr>\n",
       "    <tr>\n",
       "      <th>date</th>\n",
       "      <th></th>\n",
       "      <th></th>\n",
       "      <th></th>\n",
       "      <th></th>\n",
       "      <th></th>\n",
       "    </tr>\n",
       "  </thead>\n",
       "  <tbody>\n",
       "    <tr>\n",
       "      <th>2020-12-06</th>\n",
       "      <td>AK</td>\n",
       "      <td>35720.0</td>\n",
       "      <td>NaN</td>\n",
       "      <td>1042056.0</td>\n",
       "      <td>NaN</td>\n",
       "    </tr>\n",
       "    <tr>\n",
       "      <th>2020-12-06</th>\n",
       "      <td>AL</td>\n",
       "      <td>269877.0</td>\n",
       "      <td>45962.0</td>\n",
       "      <td>1421126.0</td>\n",
       "      <td>NaN</td>\n",
       "    </tr>\n",
       "    <tr>\n",
       "      <th>2020-12-06</th>\n",
       "      <td>AR</td>\n",
       "      <td>170924.0</td>\n",
       "      <td>22753.0</td>\n",
       "      <td>1614979.0</td>\n",
       "      <td>NaN</td>\n",
       "    </tr>\n",
       "    <tr>\n",
       "      <th>2020-12-06</th>\n",
       "      <td>AS</td>\n",
       "      <td>0.0</td>\n",
       "      <td>NaN</td>\n",
       "      <td>2140.0</td>\n",
       "      <td>NaN</td>\n",
       "    </tr>\n",
       "    <tr>\n",
       "      <th>2020-12-06</th>\n",
       "      <td>AZ</td>\n",
       "      <td>364276.0</td>\n",
       "      <td>12590.0</td>\n",
       "      <td>2018813.0</td>\n",
       "      <td>NaN</td>\n",
       "    </tr>\n",
       "  </tbody>\n",
       "</table>\n",
       "</div>"
      ],
      "text/plain": [
       "           state  positive  probableCases   negative  pending\n",
       "date                                                         \n",
       "2020-12-06    AK   35720.0            NaN  1042056.0      NaN\n",
       "2020-12-06    AL  269877.0        45962.0  1421126.0      NaN\n",
       "2020-12-06    AR  170924.0        22753.0  1614979.0      NaN\n",
       "2020-12-06    AS       0.0            NaN     2140.0      NaN\n",
       "2020-12-06    AZ  364276.0        12590.0  2018813.0      NaN"
      ]
     },
     "execution_count": 71,
     "metadata": {},
     "output_type": "execute_result"
    }
   ],
   "source": [
    "# Use the `drop` function to drop specific columns\n",
    "covid_cases_csv.drop(covid_cases_csv.iloc[:,5:38], inplace=True, axis=1)\n",
    "covid_cases_csv.head()"
   ]
  },
  {
   "cell_type": "code",
   "execution_count": 72,
   "id": "8ee8f332-eebe-44c3-942a-9533eb79a0a4",
   "metadata": {},
   "outputs": [
    {
     "data": {
      "text/plain": [
       "<matplotlib.axes._subplots.AxesSubplot at 0x7f89a24237f0>"
      ]
     },
     "execution_count": 72,
     "metadata": {},
     "output_type": "execute_result"
    },
    {
     "data": {
      "image/png": "[encoded data removed]",
      "text/plain": [
       "<Figure size 432x288 with 1 Axes>"
      ]
     },
     "metadata": {
      "needs_background": "light"
     },
     "output_type": "display_data"
    }
   ],
   "source": [
    "amazon_csv.plot()"
   ]
  },
  {
   "cell_type": "code",
   "execution_count": 79,
   "id": "23432b5a-f986-45b5-ad2d-a051e159b05e",
   "metadata": {},
   "outputs": [
    {
     "data": {
      "text/plain": [
       "<matplotlib.axes._subplots.AxesSubplot at 0x7f89a3906040>"
      ]
     },
     "execution_count": 79,
     "metadata": {},
     "output_type": "execute_result"
    },
    {
     "data": {
      "image/png": "[encoded data removed]",
      "text/plain": [
       "<Figure size 432x288 with 1 Axes>"
      ]
     },
     "metadata": {
      "needs_background": "light"
     },
     "output_type": "display_data"
    }
   ],
   "source": [
    "start_date=('20200101') \n",
    "end_date=('20201206')\n",
    "\n",
    "covid_cases_csv.loc[start_date:end_date]\n",
    "covid_cases_csv.plot()\n"
   ]
  },
  {
   "cell_type": "code",
   "execution_count": 76,
   "id": "fd3f7823-672e-4758-b30e-f53cb3c64f57",
   "metadata": {
    "tags": []
   },
   "outputs": [
    {
     "data": {
      "text/plain": [
       "<matplotlib.axes._subplots.AxesSubplot at 0x7f89a2d593a0>"
      ]
     },
     "execution_count": 76,
     "metadata": {},
     "output_type": "execute_result"
    },
    {
     "data": {
      "image/png": "[encoded data removed]",
      "text/plain": [
       "<Figure size 432x288 with 1 Axes>"
      ]
     },
     "metadata": {
      "needs_background": "light"
     },
     "output_type": "display_data"
    }
   ],
   "source": [
    "covid_cases_csv.plot('state','positive')\n"
   ]
  },
  {
   "cell_type": "code",
   "execution_count": null,
   "id": "556bd573-80b7-4179-8eed-6ccd0fefcb0a",
   "metadata": {},
   "outputs": [],
   "source": []
  },
  {
   "cell_type": "code",
   "execution_count": null,
   "id": "e090f923-4c8f-4173-b616-1fbd400eaf32",
   "metadata": {},
   "outputs": [],
   "source": []
  },
  {
   "cell_type": "code",
   "execution_count": null,
   "id": "deb834b0-78f8-4edf-b5ba-d7c0f51ea9c1",
   "metadata": {},
   "outputs": [],
   "source": []
  },
  {
   "cell_type": "code",
   "execution_count": null,
   "id": "7bf68855-0765-44d1-8d24-36327991662b",
   "metadata": {},
   "outputs": [],
   "source": []
  },
  {
   "cell_type": "code",
   "execution_count": null,
   "id": "03fb56d5-97b6-45d5-883c-6eb331454818",
   "metadata": {},
   "outputs": [],
   "source": []
  },
  {
   "cell_type": "code",
   "execution_count": null,
   "id": "cac8b41e-816c-40b6-9025-24e4bd6fc779",
   "metadata": {},
   "outputs": [],
   "source": []
  },
  {
   "cell_type": "code",
   "execution_count": null,
   "id": "9bd9d011-5c26-405a-9916-f67b9fb479b3",
   "metadata": {},
   "outputs": [],
   "source": []
  }
 ],
 "metadata": {
  "kernelspec": {
   "display_name": "Python 3",
   "language": "python",
   "name": "python3"
  },
  "language_info": {
   "codemirror_mode": {
    "name": "ipython",
    "version": 3
   },
   "file_extension": ".py",
   "mimetype": "text/x-python",
   "name": "python",
   "nbconvert_exporter": "python",
   "pygments_lexer": "ipython3",
   "version": "3.8.8"
  }
 },
 "nbformat": 4,
 "nbformat_minor": 5
}
